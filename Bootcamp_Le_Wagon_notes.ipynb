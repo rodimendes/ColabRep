{
  "nbformat": 4,
  "nbformat_minor": 0,
  "metadata": {
    "colab": {
      "name": "Bootcamp Le Wagon notes",
      "provenance": [],
      "authorship_tag": "ABX9TyOOHW6HSVI52D3HybKE6nS0",
      "include_colab_link": true
    },
    "kernelspec": {
      "name": "python3",
      "display_name": "Python 3"
    },
    "language_info": {
      "name": "python"
    }
  },
  "cells": [
    {
      "cell_type": "markdown",
      "metadata": {
        "id": "view-in-github",
        "colab_type": "text"
      },
      "source": [
        "<a href=\"https://colab.research.google.com/github/rodimendes/ColabRep/blob/main/Bootcamp_Le_Wagon_notes.ipynb\" target=\"_parent\"><img src=\"https://colab.research.google.com/assets/colab-badge.svg\" alt=\"Open In Colab\"/></a>"
      ]
    },
    {
      "cell_type": "markdown",
      "source": [
        "#**Ternary operator**\n",
        "\n",
        "**Normal implemetation**\n",
        "```\n",
        "def is_bigger(age):\n",
        "    if age < 18:\n",
        "      return True\n",
        "    else:\n",
        "      return False\n",
        "```\n",
        "**Ternary implementation with inline format**\n",
        "```\n",
        "def is_bigger(age):\n",
        "    return True if age < 18 else False\n",
        "```"
      ],
      "metadata": {
        "id": "WZujfvB5QwYy"
      }
    },
    {
      "cell_type": "markdown",
      "source": [
        "#**Sets**\n",
        "\n",
        "**Like dictinaries, without keys**\n",
        "\n",
        "````\n",
        "name_1 = {'Rodrigo', 'Camila', 'Angelo', 'Olivia'}\n",
        "name_2 = {'Rodrigo', 'Pinto', 'Angelo', 'Vieira'}\n",
        "````\n",
        "**Can use bitwise operators**\n",
        "````\n",
        "full_name = name_1 + name_2\n",
        "\n",
        "intersect = name_1 & name_2\n",
        "          result {'Rodrigo', 'Angelo'}\n",
        "\n",
        "union = name_1 | name_2\n",
        "          result {'Angelo', 'Camila', 'Olivia', 'Pinto', 'Rodrigo', 'Vieira'}\n",
        "````"
      ],
      "metadata": {
        "id": "L9coGe2fVxss"
      }
    }
  ]
}